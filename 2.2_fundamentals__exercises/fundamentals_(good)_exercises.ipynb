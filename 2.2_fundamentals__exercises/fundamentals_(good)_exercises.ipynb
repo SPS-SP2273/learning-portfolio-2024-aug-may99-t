{
 "cells": [
  {
   "attachments": {},
   "cell_type": "markdown",
   "id": "123456",
   "metadata": {},
   "source": [
    "<div style=\"text-align:left;font-size:2em\"><span style=\"font-weight:bolder;font-size:1.25em\">SP2273 | Learning Portfolio</span><br><br><span style=\"font-weight:bold;color:darkred\">Fundamentals (Good) Exercises</span></div>"
   ]
  },
  {
   "cell_type": "markdown",
   "id": "82889461-3955-4d31-a605-0f3437b92ade",
   "metadata": {},
   "source": [
    "# Exercise 1"
   ]
  },
  {
   "cell_type": "markdown",
   "id": "f357cfde-23bd-4f8d-a979-1576c2eaeea3",
   "metadata": {},
   "source": [
    "## Task 1"
   ]
  },
  {
   "cell_type": "code",
   "execution_count": 27,
   "id": "5d4f8dcd-1f2b-482d-bca9-29f7c5baa501",
   "metadata": {},
   "outputs": [
    {
     "name": "stdin",
     "output_type": "stream",
     "text": [
      "Please input your name Thania\n"
     ]
    },
    {
     "name": "stdout",
     "output_type": "stream",
     "text": [
      "How you doin \u001b[1mTHANIA\u001b[0m\n"
     ]
    }
   ],
   "source": [
    "name = input(\"Please input your name\")\n",
    "name = name.upper()\n",
    "print(f'How you doin \\033[1m{name}\\033[0m') "
   ]
  },
  {
   "cell_type": "markdown",
   "id": "f957e0bd-a782-486e-b10b-71b21f4808fa",
   "metadata": {},
   "source": [
    "## Task 2"
   ]
  },
  {
   "cell_type": "code",
   "execution_count": 26,
   "id": "9b5934fa-e1dc-46a8-9876-56535220b12c",
   "metadata": {},
   "outputs": [
    {
     "name": "stdin",
     "output_type": "stream",
     "text": [
      "Please input your name Thania\n",
      "Please input your age 20\n"
     ]
    },
    {
     "name": "stdout",
     "output_type": "stream",
     "text": [
      "My name is \u001b[1mTHANIA\u001b[0m and I am \u001b[1m20\u001b[0m years old.\n"
     ]
    }
   ],
   "source": [
    "name = input('Please input your name')\n",
    "age = input('Please input your age')\n",
    "name = name.upper()\n",
    "\n",
    "print(f'My name is \\033[1m{name}\\033[0m and I am \\033[1m{age}\\033[0m years old.')"
   ]
  },
  {
   "cell_type": "markdown",
   "id": "bfae6779-9373-4095-8714-9aa546659ece",
   "metadata": {},
   "source": [
    "## Task 3"
   ]
  },
  {
   "cell_type": "code",
   "execution_count": 30,
   "id": "b4650a36-2e08-43bf-ab82-63c45b41fc8e",
   "metadata": {},
   "outputs": [
    {
     "name": "stdout",
     "output_type": "stream",
     "text": [
      "The value of pi to 2 decimal places is 3.14\n",
      "The value of pi to 3 decimal places is 3.142\n",
      "The value of pi to 4 decimal places is 3.1416\n"
     ]
    }
   ],
   "source": [
    "pi = 3.141592653589793\n",
    "\n",
    "print(f'The value of pi to 2 decimal places is {pi:.2f}')\n",
    "print(f'The value of pi to 3 decimal places is {pi:.3f}')\n",
    "print(f'The value of pi to 4 decimal places is {pi:.4f}')"
   ]
  },
  {
   "cell_type": "markdown",
   "id": "a66fe0a4-8910-437c-abd4-7c028b0c36ae",
   "metadata": {},
   "source": [
    "## Task 3"
   ]
  },
  {
   "cell_type": "code",
   "execution_count": 36,
   "id": "4bb7c84c-fa54-4b22-88a8-4a4a41aa8ad0",
   "metadata": {},
   "outputs": [
    {
     "name": "stdout",
     "output_type": "stream",
     "text": [
      "Apple      $ 0.99\n",
      "Banana     $ 0.59\n",
      "Orange     $ 1.29\n",
      "********** $*****\n"
     ]
    }
   ],
   "source": [
    "print(f'{'Apple':<10} {'$ 0.99':>5}')\n",
    "print(f'{'Banana':<10} {'$ 0.59':>5}')\n",
    "print(f'{'Orange':<10} {'$ 1.29':>5}')\n",
    "#print(f'{'**********':<10} {'$*****':>5}')"
   ]
  },
  {
   "cell_type": "markdown",
   "id": "65980086-bd08-49dc-8427-5ff9e1711a19",
   "metadata": {},
   "source": [
    "# Exercise 2"
   ]
  },
  {
   "cell_type": "code",
   "execution_count": 39,
   "id": "d935112b-0a98-442a-807f-68f6d6f09172",
   "metadata": {},
   "outputs": [
    {
     "name": "stdin",
     "output_type": "stream",
     "text": [
      "Enter the student's score:  82\n"
     ]
    },
    {
     "name": "stdout",
     "output_type": "stream",
     "text": [
      "The student's letter grade is: A\n"
     ]
    }
   ],
   "source": [
    "def grading(x):\n",
    "    if 70 <= x <= 100:\n",
    "        return 'A'\n",
    "    elif 50 <= x <= 69:\n",
    "        return 'B'\n",
    "    elif 35 <= x <= 49:\n",
    "        return 'C'\n",
    "    else:\n",
    "        return 'Fail'\n",
    "        \n",
    "score = input('Enter the student\\'s score: ')\n",
    "score = int(score)\n",
    "grade = grading(score)\n",
    "print(f'The student\\'s letter grade is: {grade}')"
   ]
  },
  {
   "cell_type": "markdown",
   "id": "2e7941cd-bd65-44e5-9c0b-00bc1c2ad871",
   "metadata": {},
   "source": [
    "# Exercise 3"
   ]
  },
  {
   "cell_type": "code",
   "execution_count": 48,
   "id": "15c24a68-bc50-4951-a9c9-62465e26f371",
   "metadata": {},
   "outputs": [
    {
     "name": "stdout",
     "output_type": "stream",
     "text": [
      "120\n",
      "Invalid input\n",
      "1\n"
     ]
    }
   ],
   "source": [
    "def factorial(n):\n",
    "    if n < 0:\n",
    "        return \"Invalid input\"\n",
    "    elif n != 0:\n",
    "        for i in range(1, n):\n",
    "            n *= i\n",
    "        return n\n",
    "    else:\n",
    "        result = 1\n",
    "        for number in range(1, n+1):\n",
    "            result += number\n",
    "        return result\n",
    "\n",
    "\n",
    "print(factorial(5))   # Testing, expected output: 120\n",
    "print(factorial(-1))  # Testing, expected output: Invalid input\n",
    "print(factorial(0))"
   ]
  },
  {
   "cell_type": "code",
   "execution_count": null,
   "id": "c91f1e90-756b-4257-822c-5fea9326b916",
   "metadata": {},
   "outputs": [],
   "source": []
  }
 ],
 "metadata": {
  "kernelspec": {
   "display_name": "Python 3 (ipykernel)",
   "language": "python",
   "name": "python3"
  },
  "language_info": {
   "codemirror_mode": {
    "name": "ipython",
    "version": 3
   },
   "file_extension": ".py",
   "mimetype": "text/x-python",
   "name": "python",
   "nbconvert_exporter": "python",
   "pygments_lexer": "ipython3",
   "version": "3.12.3"
  },
  "toc": {
   "base_numbering": 1,
   "nav_menu": {},
   "number_sections": true,
   "sideBar": true,
   "skip_h1_title": false,
   "title_cell": "Table of Contents",
   "title_sidebar": "Contents",
   "toc_cell": false,
   "toc_position": {},
   "toc_section_display": true,
   "toc_window_display": false
  },
  "vscode": {
   "interpreter": {
    "hash": "31f2aee4e71d21fbe5cf8b01ff0e069b9275f58929596ceb00d14d90e3e16cd6"
   }
  }
 },
 "nbformat": 4,
 "nbformat_minor": 5
}
