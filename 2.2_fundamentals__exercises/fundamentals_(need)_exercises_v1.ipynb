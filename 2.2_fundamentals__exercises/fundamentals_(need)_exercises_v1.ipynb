{
 "cells": [
  {
   "attachments": {},
   "cell_type": "markdown",
   "id": "123456",
   "metadata": {},
   "source": [
    "<div style=\"text-align:left;font-size:2em\"><span style=\"font-weight:bolder;font-size:1.25em\">SP2273 | Learning Portfolio</span><br><br><span style=\"font-weight:bold;color:darkred\">Fundamentals (Need) Exercises</span></div>"
   ]
  },
  {
   "cell_type": "markdown",
   "id": "5fb871da-834f-46b9-9ba5-af967206aabb",
   "metadata": {},
   "source": [
    "## Exercise 1"
   ]
  },
  {
   "cell_type": "markdown",
   "id": "0ab51929-b2c9-4c87-85b3-8bc612f0a030",
   "metadata": {},
   "source": [
    "Basic python features:\n",
    "- functions\n",
    "  - structured as function_name()\n",
    "  - we can make our own functions\n",
    "  - may or may not accept an argument (argument is a thingy in the brackets)\n",
    "- packages\n",
    "  - contains functions and features that basic python may not have\n",
    "  - like the sqrt() function\n",
    "- dot\n",
    "  - used to indicate which package owns a certain function (useful when 2 packages have the same function)\n",
    "  - can be used to denote a function doing something to a specific variable (eg. variable.append(something))\n",
    "- python is sensitive\n",
    "  - case sensitive\n",
    "  - indent sensitive\n",
    "  - bracket sensitive (set type of bracket for a function)\n",
    "- *things i missed*\n",
    "  - *python is interpreted and works sequentially*\n",
    "  - *you can put comments in python using the '#' to denote what certain blocks of code do*\n",
    "  - *= and == mean different things*\n",
    "  - *you can use if statments to make data based decisions*\n",
    "  - *be careful about differentiating strings and variable names*\n",
    "  "
   ]
  },
  {
   "cell_type": "markdown",
   "id": "951107b8-6bf8-4182-a0e8-407333d2fbe5",
   "metadata": {},
   "source": [
    "## Exercise 2"
   ]
  },
  {
   "cell_type": "code",
   "execution_count": 17,
   "id": "c2328f34-c9cb-4aa3-af9f-e2c341b75063",
   "metadata": {},
   "outputs": [
    {
     "name": "stdout",
     "output_type": "stream",
     "text": [
      "3 , 4 , 5\n"
     ]
    }
   ],
   "source": [
    "import math\n",
    "x, y = 3, 4\n",
    "z = math.sqrt(x**2 + y**2)\n",
    "z = int(z)\n",
    "print(x,\",\", y, \",\", z)"
   ]
  },
  {
   "cell_type": "markdown",
   "id": "6a2a7418-2677-484b-a5eb-c7deacb4f427",
   "metadata": {},
   "source": [
    "## Exercise 3"
   ]
  },
  {
   "cell_type": "markdown",
   "id": "7c65911f-37b8-4417-94c8-a763575855cb",
   "metadata": {},
   "source": [
    "|#  |Term|Description|\n",
    "|:--|--- |--:|\n",
    "|1|Function|A set of commands that can be defined and used repeatedly|\n",
    "|2|Arguments|A value that can be input into functions|\n",
    "|3|Comments|Denoted by a hash, it is put in a project to explain the function of different blocks of code so that code is easily understandable|\n",
    "|4|Indentations|They allow us to differentiate between different blocks of code, such as code under a for loop or an if statement|\n",
    "|5|Packages|They are something we can download that contains already made and defined functions that we can then use more easily|\n",
    "|6|.|Can be used to denote which package a function is owned by or used before a function to denote it acting on a specific element|\n",
    "|7|:| Is used at the end of a criteria (for loops or if statements) before the indented executabe code)\n",
    "|8|[]|They are used to access values in a list|\n",
    "|9|[[],[]]|They are used in a 2D list|\n",
    "|10|{}|They are used to store data in a dictionary|"
   ]
  },
  {
   "cell_type": "markdown",
   "id": "cb017276-113f-4895-964e-44364b4e6f80",
   "metadata": {},
   "source": [
    "## Exercise 4"
   ]
  },
  {
   "cell_type": "code",
   "execution_count": 11,
   "id": "c4186262-0c82-403a-b117-b5998bf7b705",
   "metadata": {},
   "outputs": [
    {
     "name": "stdout",
     "output_type": "stream",
     "text": [
      "2.5\n"
     ]
    }
   ],
   "source": [
    "print(5/2) #5/2 allows the output to be a float \n"
   ]
  },
  {
   "cell_type": "code",
   "execution_count": 12,
   "id": "6aaaa5c9-f301-494f-8610-5ceabe1477b2",
   "metadata": {},
   "outputs": [
    {
     "name": "stdout",
     "output_type": "stream",
     "text": [
      "2\n"
     ]
    }
   ],
   "source": [
    "print(5//2) #5//2 rounds down the output into an integer"
   ]
  },
  {
   "cell_type": "code",
   "execution_count": 14,
   "id": "d30b66dd-f790-4890-8a12-cd0f8a533415",
   "metadata": {},
   "outputs": [
    {
     "name": "stdout",
     "output_type": "stream",
     "text": [
      "1\n"
     ]
    }
   ],
   "source": [
    "print(5%2) #5%2 gives the remainder as the output"
   ]
  },
  {
   "cell_type": "code",
   "execution_count": 1,
   "id": "5a525649-40cc-4921-8e7b-efc5cd46d994",
   "metadata": {},
   "outputs": [],
   "source": [
    "##putting this here so i can submit"
   ]
  },
  {
   "cell_type": "code",
   "execution_count": null,
   "id": "8c88e10c-bbd4-42fb-93b8-570aa5164639",
   "metadata": {},
   "outputs": [],
   "source": []
  }
 ],
 "metadata": {
  "kernelspec": {
   "display_name": "Python 3 (ipykernel)",
   "language": "python",
   "name": "python3"
  },
  "language_info": {
   "codemirror_mode": {
    "name": "ipython",
    "version": 3
   },
   "file_extension": ".py",
   "mimetype": "text/x-python",
   "name": "python",
   "nbconvert_exporter": "python",
   "pygments_lexer": "ipython3",
   "version": "3.12.3"
  },
  "toc": {
   "base_numbering": 1,
   "nav_menu": {},
   "number_sections": true,
   "sideBar": true,
   "skip_h1_title": false,
   "title_cell": "Table of Contents",
   "title_sidebar": "Contents",
   "toc_cell": false,
   "toc_position": {},
   "toc_section_display": true,
   "toc_window_display": false
  },
  "vscode": {
   "interpreter": {
    "hash": "31f2aee4e71d21fbe5cf8b01ff0e069b9275f58929596ceb00d14d90e3e16cd6"
   }
  }
 },
 "nbformat": 4,
 "nbformat_minor": 5
}
