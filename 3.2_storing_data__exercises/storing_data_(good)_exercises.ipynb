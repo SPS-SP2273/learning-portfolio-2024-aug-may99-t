{
 "cells": [
  {
   "attachments": {},
   "cell_type": "markdown",
   "id": "123456",
   "metadata": {},
   "source": [
    "<div style=\"text-align:left;font-size:2em\"><span style=\"font-weight:bolder;font-size:1.25em\">SP2273 | Learning Portfolio</span><br><br><span style=\"font-weight:bold;color:darkred\">Storing Data (Good) Exercises</span></div>"
   ]
  },
  {
   "cell_type": "markdown",
   "id": "2d129598-fdc9-44ee-a439-48f2bf224522",
   "metadata": {},
   "source": [
    "## Exercise 1"
   ]
  },
  {
   "cell_type": "markdown",
   "id": "574ed83d-d311-403c-9ee5-64b0934f4926",
   "metadata": {},
   "source": [
    "|**Term**|**Brief Description**|\n",
    "|:--|--:|\n",
    "|Subsetting|Selecting specific portions of a list/array|\n",
    "|Indexing|Selecting one specific value in a list/array|\n",
    "|Slicing|Use to only call a specific consecutive portion of the full list/array|\n",
    "|Masking|Use to call data that meets specific criteria in a list/array|"
   ]
  },
  {
   "cell_type": "markdown",
   "id": "5e90d8a2-bd6c-4a70-a61b-273dbb814e63",
   "metadata": {},
   "source": [
    "## Exercise 2"
   ]
  },
  {
   "cell_type": "code",
   "execution_count": 2,
   "id": "232155ba-f96a-4430-8f44-c3ee815b96d4",
   "metadata": {},
   "outputs": [
    {
     "name": "stdout",
     "output_type": "stream",
     "text": [
      "['A' 'C' 'E' 'G' 'I']\n"
     ]
    }
   ],
   "source": [
    "import numpy as np\n",
    "np_array_2d = np.array([[1, \"A\"], [3, \"C\"], [2, \"B\"], [4, \"D\"],\n",
    "                        [5, \"E\"], [7, \"G\"], [6, \"F\"], [8, \"H\"],\n",
    "                        [10, \"J\"], [9, \"I\"]])\n",
    "\n",
    "only_numbers = np_array_2d[:, 0]\n",
    "integer_array = only_numbers.astype(int)\n",
    "only_odd = integer_array % 2 == 1\n",
    "letters_odd = np_array_2d[only_odd]\n",
    "letters_odd = letters_odd[:,1] #is there an easier way to do this eg inedx and mask at the same time?\n",
    "print(letters_odd)"
   ]
  },
  {
   "cell_type": "markdown",
   "id": "5a348d81-df34-4ba9-a5bb-f190a862dda9",
   "metadata": {},
   "source": [
    "## Exercise 3"
   ]
  },
  {
   "cell_type": "code",
   "execution_count": 3,
   "id": "0bad4de4-273c-4819-858b-7b9b8ed73844",
   "metadata": {},
   "outputs": [
    {
     "data": {
      "text/plain": [
       "array([[ 1,  0,  1, -1, -1],\n",
       "       [ 1, -1,  1, -1, -1],\n",
       "       [ 1, -1, -1,  1, -1],\n",
       "       [-1,  1,  1, -1, -1],\n",
       "       [ 1, -1,  1, -1,  1]])"
      ]
     },
     "execution_count": 3,
     "metadata": {},
     "output_type": "execute_result"
    }
   ],
   "source": [
    "import numpy as np\n",
    "np_array_2d = np.array([[66, 50, 57, -1, -1],\n",
    " [92, -1, 88, -1, -1],\n",
    " [75, -1, -1, 76, -1],\n",
    " [-1, 51, 87, -1, -1],\n",
    " [71, -1, 67, -1, 69]])\n",
    "\n",
    "below_50 = (np_array_2d < 50)\n",
    "np_array_2d[below_50] = -1\n",
    "np_array_2d\n",
    "above_50 = (np_array_2d > 50)\n",
    "np_array_2d[above_50] = 1\n",
    "equal_50 = (np_array_2d == 50)\n",
    "np_array_2d[equal_50] = 0\n",
    "np_array_2d"
   ]
  },
  {
   "cell_type": "code",
   "execution_count": null,
   "id": "8359f5d9-6c58-48a5-9783-f68dfe0f9999",
   "metadata": {},
   "outputs": [],
   "source": []
  }
 ],
 "metadata": {
  "kernelspec": {
   "display_name": "Python 3 (ipykernel)",
   "language": "python",
   "name": "python3"
  },
  "language_info": {
   "codemirror_mode": {
    "name": "ipython",
    "version": 3
   },
   "file_extension": ".py",
   "mimetype": "text/x-python",
   "name": "python",
   "nbconvert_exporter": "python",
   "pygments_lexer": "ipython3",
   "version": "3.12.3"
  },
  "toc": {
   "base_numbering": 1,
   "nav_menu": {},
   "number_sections": true,
   "sideBar": true,
   "skip_h1_title": false,
   "title_cell": "Table of Contents",
   "title_sidebar": "Contents",
   "toc_cell": false,
   "toc_position": {},
   "toc_section_display": true,
   "toc_window_display": false
  },
  "vscode": {
   "interpreter": {
    "hash": "31f2aee4e71d21fbe5cf8b01ff0e069b9275f58929596ceb00d14d90e3e16cd6"
   }
  }
 },
 "nbformat": 4,
 "nbformat_minor": 5
}
