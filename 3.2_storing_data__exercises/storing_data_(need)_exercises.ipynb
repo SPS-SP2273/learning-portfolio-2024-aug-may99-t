{
 "cells": [
  {
   "attachments": {},
   "cell_type": "markdown",
   "id": "123456",
   "metadata": {},
   "source": [
    "<div style=\"text-align:left;font-size:2em\"><span style=\"font-weight:bolder;font-size:1.25em\">SP2273 | Learning Portfolio</span><br><br><span style=\"font-weight:bold;color:darkred\">Storing Data (Need) Exercises</span></div>"
   ]
  },
  {
   "cell_type": "markdown",
   "id": "397025b8-161c-4369-8e10-925cf290ad82",
   "metadata": {},
   "source": [
    "## Exercise 1"
   ]
  },
  {
   "cell_type": "markdown",
   "id": "465f3209-bab0-4cc8-a0f4-f5fb3c278d09",
   "metadata": {},
   "source": [
    "1. Both lists and arrays can store data and both can be indexed\n",
    "2. Arrays can only accept data of the same type while lists can accept multiple types of data. Numpy arrays enact operations into each item individually whereas python lists usually apply them to the list as a whole.\n",
    "3. A dictionary is a way to store data using a key and a value, where the value can be called using the key."
   ]
  },
  {
   "cell_type": "markdown",
   "id": "58df845b-dd6e-4387-aa60-6a00025655b1",
   "metadata": {},
   "source": [
    "## Exercise 2"
   ]
  },
  {
   "cell_type": "code",
   "execution_count": 1,
   "id": "37b33639-3f0e-449a-845f-836d89aa3385",
   "metadata": {},
   "outputs": [
    {
     "name": "stdout",
     "output_type": "stream",
     "text": [
      "a1\n",
      "c3\n",
      "e5\n",
      "g7\n",
      "i9\n"
     ]
    }
   ],
   "source": [
    "py_list = [\"a1\", \"b2\", \"c3\", \"d4\", \"e5\", \"f6\", \"g7\", \"h8\", \"i9\", \"j10\"]\n",
    "print(py_list[0])                    # Prints 'a1'\n",
    "print(py_list[2])                    # Prints 'c3'\n",
    "print(py_list[4])                    # Prints 'e5'\n",
    "print(py_list[6])                    # Prints 'g7'\n",
    "print(py_list[8])   # Prints 'i9'"
   ]
  },
  {
   "cell_type": "markdown",
   "id": "ac7eb578-90e8-41ae-a32e-de0f707df4c6",
   "metadata": {},
   "source": [
    "## Exercise 3"
   ]
  },
  {
   "cell_type": "code",
   "execution_count": 3,
   "id": "ab9456d5-7245-4b76-9f36-c38aba0ccecf",
   "metadata": {},
   "outputs": [
    {
     "name": "stdout",
     "output_type": "stream",
     "text": [
      "Boron\n",
      "Boron\n"
     ]
    }
   ],
   "source": [
    "elements = ['Hydrogen',\n",
    "            'Helium', 'Lithium',\n",
    "            'Beryllium', 'Boron', 'Carbon',\n",
    "            'Nitrogen', 'Oxygen',\n",
    "            'Fluorine',\n",
    "            'Neon']\n",
    "print(elements[4])\n",
    "print(elements[-6])"
   ]
  },
  {
   "cell_type": "markdown",
   "id": "70293b70-ea34-4cc1-a8e4-e2a324b336ec",
   "metadata": {},
   "source": [
    "## Exercise 4"
   ]
  },
  {
   "cell_type": "code",
   "execution_count": 19,
   "id": "b9aa5761-3d63-494e-b081-c41fdf0953ca",
   "metadata": {},
   "outputs": [
    {
     "data": {
      "text/plain": [
       "np.int64(9)"
      ]
     },
     "execution_count": 19,
     "metadata": {},
     "output_type": "execute_result"
    }
   ],
   "source": [
    "import numpy as np\n",
    "numbers=[45, 60, 1, 30, 96, 1, 96, 57, 16, 1,\n",
    "        99, 62, 86, 43, 42, 60, 59, 1, 1, 35,\n",
    "        83, 47, 34, 28, 68, 23, 22, 92, 1, 79,\n",
    "        1, 29, 94, 72, 46, 47, 1, 74, 32, 20,\n",
    "        8, 37, 35, 1, 89, 29, 86, 19, 43, 61]   \n",
    "\n",
    "np_numbers = np.array(numbers)\n",
    "number_1 = (np_numbers == 1)\n",
    "sum(number_1)"
   ]
  },
  {
   "cell_type": "markdown",
   "id": "18c4bd64-7455-4c90-9072-177058590405",
   "metadata": {},
   "source": [
    "## Exercise 5"
   ]
  },
  {
   "cell_type": "code",
   "execution_count": 47,
   "id": "5d098bdc-18ba-41ae-a732-cd0c8753d735",
   "metadata": {},
   "outputs": [
    {
     "name": "stdout",
     "output_type": "stream",
     "text": [
      "0.9871796626270702\n",
      "[[1.         0.98717966]\n",
      " [0.98717966 1.        ]]\n"
     ]
    }
   ],
   "source": [
    "import numpy as np\n",
    "x_1 = [1, 4, 9, 16, 25, 36, 49, 64, 81, 100]\n",
    "x_2 = [1, 8, 27, 64, 125, 216, 343, 512, 729, 1000]\n",
    "\n",
    "np_x1 = np.array(x_1)\n",
    "np_x2 = np.array(x_2)\n",
    "\n",
    "np_x1.mean()\n",
    "np_x2.mean()\n",
    "np_x1.std()\n",
    "np_x2.std()\n",
    "\n",
    "x1_numerator = np_x1 - np_x1.mean()\n",
    "x2_numerator = np_x2 - np_x2.mean()\n",
    "numerator = x1_numerator * x2_numerator / len(np_x1)\n",
    "numerator = numerator.sum()\n",
    "denominator = np_x1.std() * np_x2.std() \n",
    "r = numerator / denominator\n",
    "print(r)\n",
    "print(np.corrcoef(np_x1, np_x2))"
   ]
  },
  {
   "cell_type": "code",
   "execution_count": null,
   "id": "abd89893-84dd-459c-b6ad-a77e5b654bd8",
   "metadata": {},
   "outputs": [],
   "source": [
    "#putting this here so I can submit"
   ]
  }
 ],
 "metadata": {
  "kernelspec": {
   "display_name": "Python 3 (ipykernel)",
   "language": "python",
   "name": "python3"
  },
  "language_info": {
   "codemirror_mode": {
    "name": "ipython",
    "version": 3
   },
   "file_extension": ".py",
   "mimetype": "text/x-python",
   "name": "python",
   "nbconvert_exporter": "python",
   "pygments_lexer": "ipython3",
   "version": "3.12.3"
  },
  "toc": {
   "base_numbering": 1,
   "nav_menu": {},
   "number_sections": true,
   "sideBar": true,
   "skip_h1_title": false,
   "title_cell": "Table of Contents",
   "title_sidebar": "Contents",
   "toc_cell": false,
   "toc_position": {},
   "toc_section_display": true,
   "toc_window_display": false
  },
  "vscode": {
   "interpreter": {
    "hash": "31f2aee4e71d21fbe5cf8b01ff0e069b9275f58929596ceb00d14d90e3e16cd6"
   }
  }
 },
 "nbformat": 4,
 "nbformat_minor": 5
}
