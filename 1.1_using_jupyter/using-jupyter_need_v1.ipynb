{
 "cells": [
  {
   "cell_type": "code",
   "execution_count": 2,
   "id": "d93b98a3-a50c-475c-88b4-d3f88d216616",
   "metadata": {},
   "outputs": [
    {
     "name": "stdout",
     "output_type": "stream",
     "text": [
      "Hello World!\n"
     ]
    }
   ],
   "source": [
    "print(\"Hello World!\")"
   ]
  },
  {
   "cell_type": "markdown",
   "id": "8e05dec0-6ef6-46f2-8520-bc073598cba3",
   "metadata": {},
   "source": [
    "The ships *hung in the sky* in much the same way that **bricks don’t.**<sup>1</sup><sub>QUOTE</sub>"
   ]
  },
  {
   "cell_type": "markdown",
   "id": "ae2889b5-5f73-4dd1-84c5-e7f3285f1ff4",
   "metadata": {},
   "source": [
    "```python\n",
    "print(\"Hello World!\")\n",
    "```"
   ]
  },
  {
   "cell_type": "markdown",
   "id": "cfc256a7-5fa4-405a-a249-7d31035a2365",
   "metadata": {},
   "source": [
    "`ord(2)`"
   ]
  },
  {
   "cell_type": "markdown",
   "id": "4a9fa8d8-6070-42d7-a17d-626d71be199d",
   "metadata": {},
   "source": [
    "`print(\"Hello\")"
   ]
  },
  {
   "cell_type": "markdown",
   "id": "353c0d41-ec46-4cc9-ac4a-fa368b728b1f",
   "metadata": {},
   "source": [
    "[SP2273 Website](https://sps.nus.edu.sg/sp2273)"
   ]
  },
  {
   "cell_type": "markdown",
   "id": "ed123d65-e4fb-4574-8d12-020250c4f7cb",
   "metadata": {},
   "source": [
    "![](https://nus.edu.sg/images/default-source/base/logo.png)"
   ]
  },
  {
   "cell_type": "markdown",
   "id": "4b2ce30b-3bee-4b3b-ae12-7b0a6aa87fb1",
   "metadata": {},
   "source": [
    "|A  |B   |C   |D   |\n",
    "|:--|:--:|:--:|---:|\n",
    "|bro|kill|me  |now |\n",
    "|hm |hm  |hm  |hm  |\n"
   ]
  },
  {
   "cell_type": "markdown",
   "id": "91a5dc9e-8e13-489c-a422-4bb08910247f",
   "metadata": {},
   "source": [
    "1. Send help\n",
    "   1. now\n",
    "   1. duh\n",
    "1. why\n",
    "   1. is\n",
    "   1. everything\n",
    "   1. one\n",
    "1. i\n",
    "   - want\n",
    "   - to sleep \n",
    "    "
   ]
  },
  {
   "cell_type": "markdown",
   "id": "72fd83d3-8a61-44d8-b796-f3176351e2d8",
   "metadata": {},
   "source": [
    "$a^{2}+b^{2}=c^{2}$"
   ]
  },
  {
   "cell_type": "markdown",
   "id": "090cd251-a1ff-42a3-b780-33d01cdc3789",
   "metadata": {},
   "source": [
    "$x=\\dfrac{-b \\pm \\sqrt{b^{2} - 4ac}}{2a}$"
   ]
  },
  {
   "cell_type": "code",
   "execution_count": null,
   "id": "a4357c00-00d5-44ef-a7fe-0bbff72f35c4",
   "metadata": {},
   "outputs": [],
   "source": []
  }
 ],
 "metadata": {
  "kernelspec": {
   "display_name": "Python 3 (ipykernel)",
   "language": "python",
   "name": "python3"
  },
  "language_info": {
   "codemirror_mode": {
    "name": "ipython",
    "version": 3
   },
   "file_extension": ".py",
   "mimetype": "text/x-python",
   "name": "python",
   "nbconvert_exporter": "python",
   "pygments_lexer": "ipython3",
   "version": "3.12.3"
  }
 },
 "nbformat": 4,
 "nbformat_minor": 5
}
