{
 "cells": [
  {
   "attachments": {},
   "cell_type": "markdown",
   "id": "123456",
   "metadata": {},
   "source": [
    "<div style=\"text-align:left;font-size:2em\"><span style=\"font-weight:bolder;font-size:1.25em\">SP2273 | Learning Portfolio</span><br><br><span style=\"font-weight:bold;color:darkred\">Fundamentals (Nice)</span></div>"
   ]
  },
  {
   "attachments": {},
   "cell_type": "markdown",
   "id": "946b64ef",
   "metadata": {},
   "source": [
    "# 1 If if is not enough"
   ]
  },
  {
   "attachments": {},
   "cell_type": "markdown",
   "id": "01ae8aed",
   "metadata": {},
   "source": [
    "# 2 Ternary operators or Conditional Statements"
   ]
  },
  {
   "cell_type": "code",
   "execution_count": 3,
   "id": "51945cd6-7cc5-4616-9c42-272c4e6fcb28",
   "metadata": {},
   "outputs": [
    {
     "name": "stdout",
     "output_type": "stream",
     "text": [
      "Bonjour!\n"
     ]
    }
   ],
   "source": [
    "nationality = 'French'\n",
    "greeting = \"Bonjour!\" if nationality == 'French' else \"Hello!\"\n",
    "print(greeting)"
   ]
  },
  {
   "cell_type": "code",
   "execution_count": 5,
   "id": "ed2cb1d2-a889-434f-bdf4-e00944791127",
   "metadata": {},
   "outputs": [
    {
     "name": "stdout",
     "output_type": "stream",
     "text": [
      "Bonjour!\n"
     ]
    }
   ],
   "source": [
    "nationality = 'French'\n",
    "{False: \"Hello!\", True: \"Bonjour!\"}[nationality == 'French']\n",
    "print(greeting)"
   ]
  },
  {
   "attachments": {},
   "cell_type": "markdown",
   "id": "523ece24",
   "metadata": {},
   "source": [
    "# 3 Swapping values"
   ]
  },
  {
   "cell_type": "code",
   "execution_count": 6,
   "id": "56e5a99d-d6f0-487f-9ad0-4005effced27",
   "metadata": {},
   "outputs": [
    {
     "name": "stdout",
     "output_type": "stream",
     "text": [
      "2 1\n"
     ]
    }
   ],
   "source": [
    "a, b = 1, 2\n",
    "a, b = b, a\n",
    "print(a, b)"
   ]
  },
  {
   "attachments": {},
   "cell_type": "markdown",
   "id": "89964468",
   "metadata": {},
   "source": [
    "# 4 There are more types"
   ]
  },
  {
   "execution_count": 3,
   "id": "5a68057d-fb1f-4836-a28a-17a38fa3e56a",
   "metadata": {},
   "outputs": [
    {
     "name": "stdout",
     "output_type": "stream",
     "text": [
      "float          : 2.220446049250313e-16\n",
      "float16        : 0.000977\n",
      "float32        : 1.1920929e-07\n",
      "float64        : 2.220446049250313e-16\n"
     ]
    }
   ],
   "source": [
    "import numpy as np\n",
    "my_types = [\n",
    "    float,       # Default for core Python on my machine\n",
    "    np.float16,\n",
    "    np.float32,\n",
    "    np.float64, #np.float128 gives an error because it apparently does not exist in numpy\n",
    "]\n",
    "\n",
    "for my_type in my_types:\n",
    "    print(f'{my_type.__name__:<15s}:', np.finfo(my_type).eps)"
   ]
  },
  {
   "attachments": {},
   "cell_type": "markdown",
   "id": "11f7be9c",
   "metadata": {},
   "source": [
    "# 5 Operator precedance"
   ]
  },
  {
   "cell_type": "code",
   "execution_count": 5,
   "id": "4ac86c66-3c40-44b4-a718-12d1b0ac307d",
   "metadata": {},
   "outputs": [
    {
     "name": "stdout",
     "output_type": "stream",
     "text": [
      "True\n",
      "False\n"
     ]
    }
   ],
   "source": [
    "print(True ^ False)\n",
    "print(True ^ True) #If the two inputs are the same it will be False, if different it will be True\n"
   ]
  },
  {
   "attachments": {},
   "cell_type": "markdown",
   "id": "6412f88a",
   "metadata": {},
   "source": [
    "# 6 Variables in Python are just names"
   ]
  },
  {
   "attachments": {},
   "cell_type": "markdown",
   "id": "86bd39fa",
   "metadata": {},
   "source": [
    "## 6.1 The Problem"
   ]
  },
  {
   "cell_type": "code",
   "execution_count": 6,
   "id": "79b67614-b343-4553-9f0f-096f958d4705",
   "metadata": {},
   "outputs": [
    {
     "name": "stdout",
     "output_type": "stream",
     "text": [
      "x: [1, 2, 3], y: [1, 2, 3]\n"
     ]
    }
   ],
   "source": [
    "x = [1, 2]\n",
    "y = x\n",
    "y.append(3)\n",
    "\n",
    "print(f\"x: {x}, y: {y}\")"
   ]
  },
  {
   "attachments": {},
   "cell_type": "markdown",
   "id": "8997211a",
   "metadata": {},
   "source": [
    "## 6.2 An explanation"
   ]
  },
  {
   "attachments": {},
   "cell_type": "markdown",
   "id": "5da24e5c",
   "metadata": {},
   "source": [
    "## 6.3 A solution"
   ]
  },
  {
   "attachments": {},
   "cell_type": "markdown",
   "id": "357b3862",
   "metadata": {},
   "source": [
    "# 7 == is not the same as is"
   ]
  },
  {
   "attachments": {},
   "cell_type": "markdown",
   "id": "310b5016",
   "metadata": {},
   "source": [
    "## Footnotes"
   ]
  }
 ],
 "metadata": {
  "kernelspec": {
   "display_name": "Python 3 (ipykernel)",
   "language": "python",
   "name": "python3"
  },
  "language_info": {
   "codemirror_mode": {
    "name": "ipython",
    "version": 3
   },
   "file_extension": ".py",
   "mimetype": "text/x-python",
   "name": "python",
   "nbconvert_exporter": "python",
   "pygments_lexer": "ipython3",
   "version": "3.12.3"
  },
  "toc": {
   "base_numbering": 1,
   "nav_menu": {},
   "number_sections": true,
   "sideBar": true,
   "skip_h1_title": false,
   "title_cell": "Table of Contents",
   "title_sidebar": "Contents",
   "toc_cell": false,
   "toc_position": {},
   "toc_section_display": true,
   "toc_window_display": false
  },
  "vscode": {
   "interpreter": {
    "hash": "31f2aee4e71d21fbe5cf8b01ff0e069b9275f58929596ceb00d14d90e3e16cd6"
   }
  }
 },
 "nbformat": 4,
 "nbformat_minor": 5
}
