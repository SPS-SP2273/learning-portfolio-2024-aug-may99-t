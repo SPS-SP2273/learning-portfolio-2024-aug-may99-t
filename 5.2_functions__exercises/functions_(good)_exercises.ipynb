{
 "cells": [
  {
   "attachments": {},
   "cell_type": "markdown",
   "id": "123456",
   "metadata": {},
   "source": [
    "<div style=\"text-align:left;font-size:2em\"><span style=\"font-weight:bolder;font-size:1.25em\">SP2273 | Learning Portfolio</span><br><br><span style=\"font-weight:bold;color:darkred\">Functions (Good) Exercises</span></div>"
   ]
  },
  {
   "cell_type": "markdown",
   "id": "43af60c8-c619-4eb8-a77d-7cd57adacd78",
   "metadata": {},
   "source": [
    "## Exercise 1"
   ]
  },
  {
   "cell_type": "code",
   "execution_count": 3,
   "id": "22fe76ec-401a-49cc-af5e-3ddc782b9fd8",
   "metadata": {},
   "outputs": [
    {
     "name": "stdout",
     "output_type": "stream",
     "text": [
      "296.15\n",
      "73.4\n"
     ]
    }
   ],
   "source": [
    "def convert_celsius(temperature_celsius, target_scale='Fahrenheit'):\n",
    "    if target_scale == 'Kelvin':\n",
    "        return temperature_celsius + 273.15\n",
    "    else:\n",
    "        return (temperature_celsius * 9/5) + 32\n",
    "\n",
    "print(convert_celsius(23, 'Kelvin'))\n",
    "print(convert_celsius(23))"
   ]
  },
  {
   "cell_type": "markdown",
   "id": "12b479c1-9036-4c39-b85d-a71aca95c908",
   "metadata": {},
   "source": [
    "## Exercise 2"
   ]
  },
  {
   "cell_type": "code",
   "execution_count": 5,
   "id": "92ad5a20-e9ae-48cb-8814-7cef18f3fa9f",
   "metadata": {},
   "outputs": [
    {
     "name": "stdout",
     "output_type": "stream",
     "text": [
      "268.15\n",
      "-5.0\n"
     ]
    }
   ],
   "source": [
    "def convert_fahrenheit(temperature_fahrenheit, target_scale = 'Celsius'):\n",
    "    if target_scale == 'Kelvin':\n",
    "        return ((temperature_fahrenheit-32)*5/9) + 273.15\n",
    "    else:\n",
    "        return ((temperature_fahrenheit-32)*5/9)\n",
    "\n",
    "print(convert_fahrenheit(23, 'Kelvin'))\n",
    "print(convert_fahrenheit(23))"
   ]
  },
  {
   "cell_type": "markdown",
   "id": "c8a45c6f-f01b-483b-979d-fba6348dbb6b",
   "metadata": {},
   "source": [
    "## Exercise 3"
   ]
  },
  {
   "cell_type": "code",
   "execution_count": 6,
   "id": "b3d56e05-fe8c-458c-b0c4-3f3c690edafb",
   "metadata": {},
   "outputs": [
    {
     "name": "stdout",
     "output_type": "stream",
     "text": [
      "268.15\n"
     ]
    }
   ],
   "source": [
    "def convert_fahrenheit(temperature_fahrenheit, target_scale = 'Celsius'):\n",
    "    if target_scale == 'Kelvin':\n",
    "        return ((temperature_fahrenheit-32)*5/9) + 273.15\n",
    "    else:\n",
    "        return ((temperature_fahrenheit-32)*5/9)\n",
    "\n",
    "def convert_celsius(temperature_celsius, target_scale='Fahrenheit'):\n",
    "    if target_scale == 'Kelvin':\n",
    "        return temperature_celsius + 273.15\n",
    "    else:\n",
    "        return (temperature_celsius * 9/5) + 32\n",
    "\n",
    "def convert_kelvin(temperature_kelvin, target_scale='Celsius'):\n",
    "    if target_scale == 'Fahrenheit':\n",
    "        return (temperature_kelvin-273.15)*9/5 + 32\n",
    "    else:\n",
    "        return temperature_kelvin - 273.15\n",
    "\n",
    "def convert_temperature(temperature, source_scale, target_scale):\n",
    "    if source_scale == 'Celsius':\n",
    "        return convert_celsius(temperature, target_scale)\n",
    "    elif source_scale =='Fahrenheit':\n",
    "        return convert_fahrenheit(temperature, target_scale)\n",
    "    else:\n",
    "        return convert_kelvin(temperature, target_scale)\n",
    "\n",
    "print(convert_temperature(23, 'Fahrenheit', 'Kelvin'))\n",
    "        "
   ]
  },
  {
   "cell_type": "code",
   "execution_count": null,
   "id": "68284172-a4ab-4222-b7be-eec81152aeeb",
   "metadata": {},
   "outputs": [],
   "source": []
  }
 ],
 "metadata": {
  "kernelspec": {
   "display_name": "Python 3 (ipykernel)",
   "language": "python",
   "name": "python3"
  },
  "language_info": {
   "codemirror_mode": {
    "name": "ipython",
    "version": 3
   },
   "file_extension": ".py",
   "mimetype": "text/x-python",
   "name": "python",
   "nbconvert_exporter": "python",
   "pygments_lexer": "ipython3",
   "version": "3.12.3"
  },
  "toc": {
   "base_numbering": 1,
   "nav_menu": {},
   "number_sections": true,
   "sideBar": true,
   "skip_h1_title": false,
   "title_cell": "Table of Contents",
   "title_sidebar": "Contents",
   "toc_cell": false,
   "toc_position": {},
   "toc_section_display": true,
   "toc_window_display": false
  },
  "vscode": {
   "interpreter": {
    "hash": "31f2aee4e71d21fbe5cf8b01ff0e069b9275f58929596ceb00d14d90e3e16cd6"
   }
  }
 },
 "nbformat": 4,
 "nbformat_minor": 5
}
