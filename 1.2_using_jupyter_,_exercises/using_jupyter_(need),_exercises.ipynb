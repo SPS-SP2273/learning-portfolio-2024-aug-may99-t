{
 "cells": [
  {
   "attachments": {},
   "cell_type": "markdown",
   "id": "123456",
   "metadata": {},
   "source": [
    "<div style=\"text-align:left;font-size:2em\"><span style=\"font-weight:bolder;font-size:1.25em\">SP2273 | Learning Portfolio</span><br><br><span style=\"font-weight:bold;color:darkred\">Using Jupyter (Need), Exercises</span></div>"
   ]
  },
  {
   "attachments": {},
   "cell_type": "markdown",
   "id": "f8174152",
   "metadata": {},
   "source": [
    "## 1 Quadratic Equations"
   ]
  },
  {
   "attachments": {},
   "cell_type": "markdown",
   "id": "38b48c88",
   "metadata": {},
   "source": [
    "### Introduction"
   ]
  },
  {
   "attachments": {},
   "cell_type": "markdown",
   "id": "c008de63-c3fc-4233-b78a-6281d2719ce6",
   "metadata": {},
   "source": [
    "![](https://upload.wikimedia.org/wikipedia/commons/thumb/f/f8/Polynomialdeg2.svg/600px-Polynomialdeg2.svg.png)\n",
    "\n",
    "(*Image from the [Wikipedia page on Quadratic equations](https://en.wikipedia.org/wiki/Quadratic_equation)*)\n",
    "\n",
    "The general form of a quadratic equation is:\n",
    "$$ax^2+bx+c=0$$"
   ]
  },
  {
   "cell_type": "markdown",
   "id": "f60b8e81-aee5-45b4-9492-c0de76502e7f",
   "metadata": {},
   "source": [
    "### Solutions"
   ]
  },
  {
   "cell_type": "markdown",
   "id": "5e675c89-05ad-466f-80b1-f1fb17d67cfa",
   "metadata": {},
   "source": [
    "Provided $a \\neq 0$, we can use an elementary algebraic method called [completing the square](https://en.wikipedia.org/wiki/Completing_the_square) to show that a quadratic equation has the following solution:\n",
    "\n",
    "$$x=\\frac{-b \\pm \\sqrt{b^2-4ac}}{2a}$$"
   ]
  },
  {
   "attachments": {},
   "cell_type": "markdown",
   "id": "cf824c44",
   "metadata": {},
   "source": [
    "### Discriminant"
   ]
  },
  {
   "cell_type": "markdown",
   "id": "34b292c1-771e-4e41-9f53-a91474db80df",
   "metadata": {},
   "source": [
    "The quantity $\\Delta = b^2 - 4ac$ is called the **discriminant** of the equation and decides the nature of its solutions. The table below shows the various possibilities.\n",
    "\n",
    "| **Discriminant** | **Roots** |\n",
    "| :--- | :-- |\n",
    "| $\\Delta = b^2 - 4ac = 0$ | A single solution of $\\frac{-b}{2a}$ |\n",
    "| $\\Delta = b^2 - 4ac > 0$ | Two distinct solutions |\n",
    "| $\\Delta = b^2 - 4ac < 0$ | No real solutions; both are complex. | "
   ]
  },
  {
   "cell_type": "markdown",
   "id": "9d36ff39-e770-4f43-b605-0d548a54f9d1",
   "metadata": {},
   "source": [
    "## Exercise 2"
   ]
  },
  {
   "cell_type": "markdown",
   "id": "3abb23e4-3a4e-4979-9ae7-e4d971e45adf",
   "metadata": {},
   "source": [
    "1. A folder on the cloud. It can store files or other folders/repositories.\n",
    "2. Changes.\n",
    "3. A commit is locally saved edit on our files\n",
    "4. A ‘push’ pushes locally saved commits to the git repository on the cloud.\n",
    "5. A ‘pull’ pulls the current version of the git repository (in the cloud) to our local devices.\n",
    "6. GitHub is on the cloud. GitHub desktop allows you to clone files from GitHub onto your local device, making it easy to track and work on changing code."
   ]
  },
  {
   "cell_type": "markdown",
   "id": "2da439a3-6eb7-4b2d-a6e4-76dc8dd48b4b",
   "metadata": {},
   "source": [
    "## Exercise 3"
   ]
  },
  {
   "cell_type": "markdown",
   "id": "a31b5f90-b873-47a3-aab4-2d80b00b2c86",
   "metadata": {},
   "source": [
    "$\\mu = \\frac{1}{n} \\sum^n_{i=1}x_i$\n",
    "\n",
    "$\\sigma = \\sqrt{\\frac{1}{n} \\sum^{n}_{i=1}(x_i-\\mu)^2}$\n",
    "\n",
    "$r = \\frac{\\sum^{n}_{i=1}(x_i-\\mu_X)(y_i-\\mu_Y)}{\\sqrt{\\sum^{n}_{i=1}(x_i-\\mu_X)^2\\sum^{n}_{i=1}(y_i-\\mu_Y)^2}}$"
   ]
  }
 ],
 "metadata": {
  "kernelspec": {
   "display_name": "Python 3 (ipykernel)",
   "language": "python",
   "name": "python3"
  },
  "language_info": {
   "codemirror_mode": {
    "name": "ipython",
    "version": 3
   },
   "file_extension": ".py",
   "mimetype": "text/x-python",
   "name": "python",
   "nbconvert_exporter": "python",
   "pygments_lexer": "ipython3",
   "version": "3.12.2"
  },
  "toc": {
   "base_numbering": 1,
   "nav_menu": {},
   "number_sections": true,
   "sideBar": true,
   "skip_h1_title": false,
   "title_cell": "Table of Contents",
   "title_sidebar": "Contents",
   "toc_cell": false,
   "toc_position": {},
   "toc_section_display": true,
   "toc_window_display": false
  },
  "vscode": {
   "interpreter": {
    "hash": "31f2aee4e71d21fbe5cf8b01ff0e069b9275f58929596ceb00d14d90e3e16cd6"
   }
  }
 },
 "nbformat": 4,
 "nbformat_minor": 5
}
