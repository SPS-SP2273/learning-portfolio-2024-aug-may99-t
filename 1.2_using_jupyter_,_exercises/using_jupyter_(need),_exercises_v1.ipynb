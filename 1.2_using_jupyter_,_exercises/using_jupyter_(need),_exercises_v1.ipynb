{
 "cells": [
  {
   "attachments": {},
   "cell_type": "markdown",
   "id": "123456",
   "metadata": {},
   "source": [
    "<div style=\"text-align:left;font-size:2em\"><span style=\"font-weight:bolder;font-size:1.25em\">SP2273 | Learning Portfolio</span><br><br><span style=\"font-weight:bold;color:darkred\">Using Jupyter (Need), Exercises</span></div>"
   ]
  },
  {
   "attachments": {},
   "cell_type": "markdown",
   "id": "a34b6a52",
   "metadata": {},
   "source": [
    "## 1 Quadratic Equations"
   ]
  },
  {
   "attachments": {},
   "cell_type": "markdown",
   "id": "9b4e0aab",
   "metadata": {},
   "source": [
    "### Introduction"
   ]
  },
  {
   "cell_type": "markdown",
   "id": "54ab40f5-dadb-4f7a-89c7-eab0a69651aa",
   "metadata": {},
   "source": [
    "![](https://upload.wikimedia.org/wikipedia/commons/thumb/f/f8/Polynomialdeg2.svg/600px-Polynomialdeg2.svg.png)"
   ]
  },
  {
   "cell_type": "markdown",
   "id": "5e2e26a7-7842-497b-9c02-5a8f8640a093",
   "metadata": {},
   "source": [
    "*(Image from [Wikipedia page on Quadratic equations](https://en.wikipedia.org/wiki/Quadratic_equation))*"
   ]
  },
  {
   "cell_type": "markdown",
   "id": "ce08f376-ce0a-4cce-9117-3271492546cd",
   "metadata": {},
   "source": [
    "The general form of a quadratic equation is:\n",
    "\n",
    "$ax^{2}+bx+c=0$"
   ]
  },
  {
   "cell_type": "markdown",
   "id": "37814925-e385-4148-9382-a1a4f7bb05ff",
   "metadata": {},
   "source": [
    "## Discriminant"
   ]
  },
  {
   "attachments": {},
   "cell_type": "markdown",
   "id": "c882527f",
   "metadata": {},
   "source": [
    "### Solutions"
   ]
  },
  {
   "cell_type": "markdown",
   "id": "f2c37750-34e5-46ee-8833-a40012928852",
   "metadata": {},
   "source": [
    "Provided $a \\ne 0$, we can use an elementary algebraic method called [completing the square](https://en.wikipedia.org/wiki/Completing_the_square) to show that a quadratic equation has the following solution:"
   ]
  },
  {
   "cell_type": "markdown",
   "id": "905010c9-fe12-4d4e-bc3a-71165bed3d18",
   "metadata": {},
   "source": [
    "$x=\\dfrac{-b \\pm \\sqrt{b^{2}-4ac}}{2a}$"
   ]
  },
  {
   "attachments": {},
   "cell_type": "markdown",
   "id": "35347b03",
   "metadata": {},
   "source": [
    "### Discriminant"
   ]
  },
  {
   "cell_type": "markdown",
   "id": "e9103056-f509-42e0-abc5-1493e3a2ac51",
   "metadata": {},
   "source": [
    "The quantity $\\Delta=b^{2}-4ac$ is called the **discriminant** of the equation and decides the nature of its solutions. The table below shows the various possibilities."
   ]
  },
  {
   "cell_type": "markdown",
   "id": "c7f5d819-8f2d-4260-9e4c-f6bd311fc3f8",
   "metadata": {},
   "source": [
    "|**Discriminant**|**Roots**|\n",
    "|:---|---:|\n",
    "|$\\Delta=b^{2}-4ac=0$|A single solution of $\\dfrac{-b}{(2a)}$|\n",
    "|$\\Delta=b^{2}-4ac \\gt 0$|Two distinct solutions|\n",
    "|$\\Delta=b^{2}-4ac \\lt 0$|No real solutions; both are complex.|"
   ]
  },
  {
   "cell_type": "markdown",
   "id": "d14c676e-7463-4148-a30f-7349c5a3818f",
   "metadata": {},
   "source": [
    "## Exercise 2"
   ]
  },
  {
   "cell_type": "markdown",
   "id": "15f43264-1418-4503-b766-4e17fee1ca02",
   "metadata": {},
   "source": [
    "1. What is a Git repository?\n",
    "   - It is the main place where people can store and access uploaded code. You can also track edits and other change to the uploaded code.\n",
    "1. Git keeps tracks of changes in the files in our repository.\n",
    "1. What is a commit?\n",
    "   - You can use it document all the changes or additions you made to existing code before the commit, as well as when and who made them.\n",
    "1. What is a push?\n",
    "   - A push is an action you can do on github after you commit your changes. It then uploads your changes to the Git repository so that it is reflected in the version of the code that people can access there.\n",
    "1. What is a pull?\n",
    "   - A pull is an action you can do on github when you want to reflect the changes made on one version of a file (that has already been committed and pushed) into another version of the file (eg. Git repository or your own version saved locally)"
   ]
  },
  {
   "cell_type": "markdown",
   "id": "3b325e00-e252-4122-a08b-f2bcaf444994",
   "metadata": {},
   "source": [
    "## Exercise 3"
   ]
  },
  {
   "cell_type": "markdown",
   "id": "1d3307b3-fd38-4c7e-80ee-bb4c2603118b",
   "metadata": {},
   "source": [
    "$$\n",
    "\\mu = \\dfrac{1}{n} \\sum^{n}_{i=1}x_{i}\n",
    "$$"
   ]
  },
  {
   "cell_type": "markdown",
   "id": "879ad4ee-901b-4f0f-8ab0-55af3df9f4b5",
   "metadata": {},
   "source": [
    "$$\n",
    "\\sigma = \\sqrt{\\dfrac{1}{n} \\sum^{n}_{i=1}(x_{i}-\\mu)^{2}}\n",
    "$$"
   ]
  },
  {
   "cell_type": "markdown",
   "id": "0d139c2f-0b7a-4bb6-818b-13abda714cb4",
   "metadata": {},
   "source": [
    "$$\n",
    "\\gamma = \\dfrac{\\sum^{n}_{i=1}(x_{i}-\\mu_{X})(y_{i}-\\mu_{Y})}{\\sqrt{\\sum^{n}_{i=1}(x_{i}-\\mu_{X})^{2}\\sum^{n}_{i=1}(y_{i}-\\mu_{Y})^{2}}}\n",
    "$$"
   ]
  },
  {
   "cell_type": "code",
   "execution_count": null,
   "id": "a7bd2b40-6b2d-42e2-9be4-b25184ecae14",
   "metadata": {},
   "outputs": [],
   "source": [
    "## putting this here so i can submit"
   ]
  }
 ],
 "metadata": {
  "kernelspec": {
   "display_name": "Python 3 (ipykernel)",
   "language": "python",
   "name": "python3"
  },
  "language_info": {
   "codemirror_mode": {
    "name": "ipython",
    "version": 3
   },
   "file_extension": ".py",
   "mimetype": "text/x-python",
   "name": "python",
   "nbconvert_exporter": "python",
   "pygments_lexer": "ipython3",
   "version": "3.12.3"
  },
  "toc": {
   "base_numbering": 1,
   "nav_menu": {},
   "number_sections": true,
   "sideBar": true,
   "skip_h1_title": false,
   "title_cell": "Table of Contents",
   "title_sidebar": "Contents",
   "toc_cell": false,
   "toc_position": {},
   "toc_section_display": true,
   "toc_window_display": false
  },
  "vscode": {
   "interpreter": {
    "hash": "31f2aee4e71d21fbe5cf8b01ff0e069b9275f58929596ceb00d14d90e3e16cd6"
   }
  }
 },
 "nbformat": 4,
 "nbformat_minor": 5
}
