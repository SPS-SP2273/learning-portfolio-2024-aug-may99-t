{
 "cells": [
  {
   "attachments": {},
   "cell_type": "markdown",
   "id": "123456",
   "metadata": {},
   "source": [
    "<div style=\"text-align:left;font-size:2em\"><span style=\"font-weight:bolder;font-size:1.25em\">SP2273 | Learning Portfolio</span><br><br><span style=\"font-weight:bold;color:darkred\">Loops (Need) Exercises</span></div>"
   ]
  },
  {
   "cell_type": "markdown",
   "id": "6f22ccb9-f329-4bba-8066-626bede44cc0",
   "metadata": {},
   "source": [
    "## Exercise 1"
   ]
  },
  {
   "cell_type": "code",
   "execution_count": 1,
   "id": "f35aaa23-5c9d-4f47-8a3f-9adeff704522",
   "metadata": {},
   "outputs": [
    {
     "name": "stdout",
     "output_type": "stream",
     "text": [
      "0C is equal to 32.0F.\n",
      "5C is equal to 41.0F.\n",
      "10C is equal to 50.0F.\n",
      "15C is equal to 59.0F.\n",
      "20C is equal to 68.0F.\n",
      "25C is equal to 77.0F.\n",
      "30C is equal to 86.0F.\n",
      "35C is equal to 95.0F.\n",
      "40C is equal to 104.0F.\n",
      "45C is equal to 113.0F.\n",
      "50C is equal to 122.0F.\n"
     ]
    }
   ],
   "source": [
    "import numpy as np\n",
    "temperatures_celsius = [\n",
    "    0, 5, 10, 15, 20, 25,\n",
    "    30, 35, 40, 45, 50\n",
    "]\n",
    "\n",
    "np_temp_c = np.array(temperatures_celsius)\n",
    "np_temp_f = (np_temp_c * 9/5)+32\n",
    "\n",
    "for i, temp_c in enumerate(np_temp_c):\n",
    "    temp_f = np_temp_f[i]\n",
    "    print(f'{temp_c}C is equal to {round(temp_f, 2)}F.')\n",
    "    "
   ]
  },
  {
   "cell_type": "markdown",
   "id": "a1f1c346-427f-4ce5-8d1a-9e846167ee20",
   "metadata": {},
   "source": [
    "## Exercise 2"
   ]
  },
  {
   "cell_type": "code",
   "execution_count": 14,
   "id": "175c67a8-2672-48e1-b73a-dc362128a05d",
   "metadata": {},
   "outputs": [
    {
     "name": "stdout",
     "output_type": "stream",
     "text": [
      "1:\t1\t2\t3\t4\t5\t\n",
      "2:\t2\t4\t6\t8\t10\t\n",
      "3:\t3\t6\t9\t12\t15\t\n",
      "4:\t4\t8\t12\t16\t20\t\n",
      "5:\t5\t10\t15\t20\t25\t\n"
     ]
    }
   ],
   "source": [
    "for x in [1, 2, 3, 4, 5]:\n",
    "    line=''\n",
    "    for y in [1, 2, 3, 4, 5]:\n",
    "        line += f'{x*y}\\t'\n",
    "    print(f'{x}:\\t' + line)"
   ]
  },
  {
   "cell_type": "markdown",
   "id": "e67e0273-0d82-4735-93c3-1a07e3a3f8b3",
   "metadata": {},
   "source": [
    "## Exercise 3"
   ]
  },
  {
   "cell_type": "code",
   "execution_count": 15,
   "id": "155e5ff5-1e5d-4cb2-81e7-de9233628a0d",
   "metadata": {},
   "outputs": [
    {
     "name": "stdout",
     "output_type": "stream",
     "text": [
      "Experiment 1: No. of Heads = 3\n",
      "Experiment 2: No. of Heads = 7\n",
      "Experiment 3: No. of Heads = 6\n",
      "Experiment 4: No. of Heads = 6\n",
      "Experiment 5: No. of Heads = 7\n",
      "Experiment 6: No. of Heads = 8\n",
      "Experiment 7: No. of Heads = 2\n",
      "Experiment 8: No. of Heads = 8\n",
      "Experiment 9: No. of Heads = 4\n",
      "Experiment 10: No. of Heads = 4\n"
     ]
    }
   ],
   "source": [
    "for i in range (1, 11):\n",
    "    coin_flips = np.random.rand(10)\n",
    "    heads = 0\n",
    "    for x in coin_flips:\n",
    "        if x > 0.5:\n",
    "            heads += 1\n",
    "        else:\n",
    "            pass\n",
    "    print(f'Experiment {i}: No. of Heads = {heads}')"
   ]
  },
  {
   "cell_type": "code",
   "execution_count": null,
   "id": "cea30473-75c6-4b9e-aee1-080b56ca3cf7",
   "metadata": {},
   "outputs": [],
   "source": []
  }
 ],
 "metadata": {
  "kernelspec": {
   "display_name": "Python 3 (ipykernel)",
   "language": "python",
   "name": "python3"
  },
  "language_info": {
   "codemirror_mode": {
    "name": "ipython",
    "version": 3
   },
   "file_extension": ".py",
   "mimetype": "text/x-python",
   "name": "python",
   "nbconvert_exporter": "python",
   "pygments_lexer": "ipython3",
   "version": "3.12.3"
  },
  "toc": {
   "base_numbering": 1,
   "nav_menu": {},
   "number_sections": true,
   "sideBar": true,
   "skip_h1_title": false,
   "title_cell": "Table of Contents",
   "title_sidebar": "Contents",
   "toc_cell": false,
   "toc_position": {},
   "toc_section_display": true,
   "toc_window_display": false
  },
  "vscode": {
   "interpreter": {
    "hash": "31f2aee4e71d21fbe5cf8b01ff0e069b9275f58929596ceb00d14d90e3e16cd6"
   }
  }
 },
 "nbformat": 4,
 "nbformat_minor": 5
}
