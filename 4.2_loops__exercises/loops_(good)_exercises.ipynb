{
 "cells": [
  {
   "attachments": {},
   "cell_type": "markdown",
   "id": "123456",
   "metadata": {},
   "source": [
    "<div style=\"text-align:left;font-size:2em\"><span style=\"font-weight:bolder;font-size:1.25em\">SP2273 | Learning Portfolio</span><br><br><span style=\"font-weight:bold;color:darkred\">Loops (Good) Exercises</span></div>"
   ]
  },
  {
   "cell_type": "markdown",
   "id": "fd41d56d-a410-41e1-8bdb-56b269c9295d",
   "metadata": {},
   "source": [
    "## Exercise 1"
   ]
  },
  {
   "cell_type": "code",
   "execution_count": 19,
   "id": "b133287d-e516-441b-b328-f589539f8195",
   "metadata": {},
   "outputs": [
    {
     "name": "stdout",
     "output_type": "stream",
     "text": [
      "2.85 μs ± 90 ns per loop (mean ± std. dev. of 7 runs, 100,000 loops each)\n"
     ]
    }
   ],
   "source": [
    "%%timeit \n",
    "my_list = []\n",
    "for i in range(10):\n",
    "    if i % 2 == 0:\n",
    "        continue\n",
    "    else: \n",
    "        i = i**2\n",
    "        my_list.append(i)\n",
    "#print(my_list)\n"
   ]
  },
  {
   "cell_type": "markdown",
   "id": "e621bec2-1270-4cde-bb5f-3628e5c36035",
   "metadata": {},
   "source": [
    "## Exercise 2"
   ]
  },
  {
   "cell_type": "code",
   "execution_count": 20,
   "id": "542629f9-2d0a-4cdb-b635-9d22eb7076af",
   "metadata": {},
   "outputs": [
    {
     "name": "stdout",
     "output_type": "stream",
     "text": [
      "8.21 μs ± 185 ns per loop (mean ± std. dev. of 7 runs, 100,000 loops each)\n"
     ]
    }
   ],
   "source": [
    "%%timeit\n",
    "import numpy as np\n",
    "my_list = [x for x in range(10) if x%2!=0]\n",
    "my_list_np = np.array(my_list)\n",
    "res = my_list_np**2\n",
    "#print(res)\n"
   ]
  },
  {
   "cell_type": "markdown",
   "id": "0aae6267-272d-4f8c-ac59-cd77b671c159",
   "metadata": {},
   "source": [
    "## Exercise 3"
   ]
  },
  {
   "cell_type": "markdown",
   "id": "0c15bee5-8b00-4c62-9477-0f6d044e0a8f",
   "metadata": {},
   "source": [
    "the for loop with continue method is faster"
   ]
  },
  {
   "cell_type": "markdown",
   "id": "b203b257-f9bc-4279-8063-5548c8ccde4c",
   "metadata": {},
   "source": [
    "## Exericse 4"
   ]
  },
  {
   "cell_type": "code",
   "execution_count": 24,
   "id": "cdcfe3cc-61ed-43ac-8ecf-076fc20cd15b",
   "metadata": {},
   "outputs": [
    {
     "name": "stdout",
     "output_type": "stream",
     "text": [
      "It takes 10 years for the substance to reduce to half its original amount\n"
     ]
    }
   ],
   "source": [
    "years = 0\n",
    "radioactive = 100\n",
    "while radioactive > 50:\n",
    "    years += 1\n",
    "    radioactive -= 5\n",
    "print(f'It takes {years} years for the substance to reduce to half its original amount')"
   ]
  },
  {
   "cell_type": "markdown",
   "id": "7ace6eb7-1103-48f3-b099-d13fb4bc5633",
   "metadata": {},
   "source": [
    "## Exercise 5"
   ]
  },
  {
   "cell_type": "code",
   "execution_count": 32,
   "id": "01be3f15-4976-4cda-85e4-0672eaf00ecc",
   "metadata": {},
   "outputs": [
    {
     "name": "stdout",
     "output_type": "stream",
     "text": [
      "2016 3.410000000000025\n"
     ]
    }
   ],
   "source": [
    "co2_data = [\n",
    "    (2000, 369.55), (2001, 371.14), (2002, 373.28), \n",
    "    (2003, 375.80), (2004, 377.52), (2005, 379.80), \n",
    "    (2006, 381.90), (2007, 383.79), (2008, 385.60), \n",
    "    (2009, 387.43), (2010, 389.90), (2011, 391.65), \n",
    "    (2012, 393.85), (2013, 396.52), (2014, 398.65),\n",
    "    (2015, 400.83), (2016, 404.24), (2017, 406.55), \n",
    "    (2018, 408.52), (2019, 411.44), (2020, 414.24)\n",
    "]\n",
    "\n",
    "for i in range(1, len(co2_data)):\n",
    "    if co2_data[i][1]-co2_data[i-1][1]>=3:\n",
    "        difference = co2_data[i][1]-co2_data[i-1][1]\n",
    "        year = co2_data[i][0]\n",
    "        print(year, difference)\n",
    "    else: \n",
    "         continue\n",
    "        "
   ]
  },
  {
   "cell_type": "code",
   "execution_count": null,
   "id": "456d3e41-5a5e-4c59-a314-01078cb8af17",
   "metadata": {},
   "outputs": [],
   "source": []
  }
 ],
 "metadata": {
  "kernelspec": {
   "display_name": "Python 3 (ipykernel)",
   "language": "python",
   "name": "python3"
  },
  "language_info": {
   "codemirror_mode": {
    "name": "ipython",
    "version": 3
   },
   "file_extension": ".py",
   "mimetype": "text/x-python",
   "name": "python",
   "nbconvert_exporter": "python",
   "pygments_lexer": "ipython3",
   "version": "3.12.3"
  },
  "toc": {
   "base_numbering": 1,
   "nav_menu": {},
   "number_sections": true,
   "sideBar": true,
   "skip_h1_title": false,
   "title_cell": "Table of Contents",
   "title_sidebar": "Contents",
   "toc_cell": false,
   "toc_position": {},
   "toc_section_display": true,
   "toc_window_display": false
  },
  "vscode": {
   "interpreter": {
    "hash": "31f2aee4e71d21fbe5cf8b01ff0e069b9275f58929596ceb00d14d90e3e16cd6"
   }
  }
 },
 "nbformat": 4,
 "nbformat_minor": 5
}
